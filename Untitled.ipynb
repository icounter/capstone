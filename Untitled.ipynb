{
 "cells": [
  {
   "cell_type": "code",
   "execution_count": 248,
   "metadata": {
    "collapsed": false
   },
   "outputs": [],
   "source": [
    "import sup_lib as sp\n",
    "from bs4 import BeautifulSoup\n",
    "import calendar\n",
    "import pandas as pd\n",
    "import mechanicalsoup\n",
    "import re\n",
    "import requests\n",
    "import sys\n",
    "import quandl\n",
    "import datetime\n",
    "import numpy as np\n",
    "from scipy.optimize import minimize\n",
    "import os"
   ]
  },
  {
   "cell_type": "code",
   "execution_count": 255,
   "metadata": {
    "collapsed": true
   },
   "outputs": [],
   "source": [
    "work_directory=os.getcwd()\n",
    "quandl.ApiConfig.api_key = '1Jv_L1tcd1ecD8SnxUEE'"
   ]
  },
  {
   "cell_type": "code",
   "execution_count": 16,
   "metadata": {
    "collapsed": false
   },
   "outputs": [],
   "source": [
    "IVV=quandl.get('GOOG/NYSEARCA_IVV',start_date='2000-01-01',end_date='2016-12-09')\n",
    "SPX=quandl.get('YAHOO/INDEX_GSPC',start_date='2000-01-01',end_date='2016-12-09')"
   ]
  },
  {
   "cell_type": "code",
   "execution_count": 31,
   "metadata": {
    "collapsed": false,
    "scrolled": false
   },
   "outputs": [],
   "source": [
    "IVV_SPX=pd.concat([IVV,SPX],axis=1)\n",
    "IVV_SPX.dropna(inplace=True)"
   ]
  },
  {
   "cell_type": "code",
   "execution_count": 40,
   "metadata": {
    "collapsed": false
   },
   "outputs": [
    {
     "data": {
      "text/html": [
       "<div>\n",
       "<table border=\"1\" class=\"dataframe\">\n",
       "  <thead>\n",
       "    <tr style=\"text-align: right;\">\n",
       "      <th></th>\n",
       "      <th>Close</th>\n",
       "      <th>Close</th>\n",
       "    </tr>\n",
       "  </thead>\n",
       "  <tbody>\n",
       "    <tr>\n",
       "      <th>Close</th>\n",
       "      <td>1.000000</td>\n",
       "      <td>0.999956</td>\n",
       "    </tr>\n",
       "    <tr>\n",
       "      <th>Close</th>\n",
       "      <td>0.999956</td>\n",
       "      <td>1.000000</td>\n",
       "    </tr>\n",
       "  </tbody>\n",
       "</table>\n",
       "</div>"
      ],
      "text/plain": [
       "          Close     Close\n",
       "Close  1.000000  0.999956\n",
       "Close  0.999956  1.000000"
      ]
     },
     "execution_count": 40,
     "metadata": {},
     "output_type": "execute_result"
    }
   ],
   "source": [
    "IVV_SPX['Close'].corr()"
   ]
  },
  {
   "cell_type": "markdown",
   "metadata": {},
   "source": [
    "wee can see from above IVV and SPX correlation is 99.99%."
   ]
  },
  {
   "cell_type": "code",
   "execution_count": 257,
   "metadata": {
    "collapsed": false
   },
   "outputs": [],
   "source": [
    "query_list=pd.to_datetime(pd.date_range('2006/9/1', periods=123, freq='BM'))\n",
    "query_list=pd.Series(query_list.format())\n",
    "query_list=['/'.join(i.split('-')) for i in query_list]\n",
    "query_list.append('2016/12/09')"
   ]
  },
  {
   "cell_type": "code",
   "execution_count": 262,
   "metadata": {
    "collapsed": false
   },
   "outputs": [],
   "source": [
    "with requests.Session() as s:\n",
    "    ###post is to send login info while con is to capture the info captured by login\n",
    "    for query in query_list:\n",
    "        if os.path.exists(work_directory+'/'+'-'.join(query.split('/'))+'.csv') == False:\n",
    "            url='http://www.ishares.com/us/products/239726/ishares-core-sp-500-etf/1467271812596.ajax?fileType=csv&fileName=IVV_holdings&dataType=fund&asOfDate={0}'.format(query)\n",
    "            con = s.get(url, headers = dict(referer = url),verify=False)\n",
    "            p=con.text\n",
    "            p=p.split('\\n')[10:]\n",
    "            data_sets=[]\n",
    "            for i in range(len(p)):\n",
    "                if i == 0:\n",
    "                    column_names=p[i].split(',')\n",
    "                else:\n",
    "                    temp=p[i].split('\",\"')\n",
    "                    temp[0]=temp[0][1:]\n",
    "                    temp[len(temp)-1]=temp[len(temp)-1][0:-1]\n",
    "                    for j in range(len(temp)):\n",
    "                        temp[j]=\"\".join(temp[j].split(','))\n",
    "                    data_sets.append(temp)\n",
    "            data_sets=pd.DataFrame(data_sets)\n",
    "            columns_dict={}\n",
    "            for i in range(len(column_names)):\n",
    "                columns_dict[i]=column_names[i]\n",
    "            data_sets.rename(columns=columns_dict,inplace=True)\n",
    "            data_sets.to_csv('{0}.csv'.format('-'.join(query.split('/'))),index=False)"
   ]
  },
  {
   "cell_type": "code",
   "execution_count": 668,
   "metadata": {
    "collapsed": false
   },
   "outputs": [
    {
     "data": {
      "text/plain": [
       "<module 'sup_lib' from '/Users/zhuchao1/Desktop/Baruch/MFE Third semster/capstone-master/sup_lib.py'>"
      ]
     },
     "execution_count": 668,
     "metadata": {},
     "output_type": "execute_result"
    }
   ],
   "source": [
    "import sup_lib as sp\n",
    "import imp\n",
    "imp.reload(sp)"
   ]
  },
  {
   "cell_type": "code",
   "execution_count": 577,
   "metadata": {
    "collapsed": true
   },
   "outputs": [],
   "source": [
    "rolling_window=12\n",
    "forecastwindow=1"
   ]
  },
  {
   "cell_type": "code",
   "execution_count": 578,
   "metadata": {
    "collapsed": false
   },
   "outputs": [],
   "source": [
    "cur_month='2015-08-31'"
   ]
  },
  {
   "cell_type": "code",
   "execution_count": 579,
   "metadata": {
    "collapsed": false
   },
   "outputs": [
    {
     "name": "stdout",
     "output_type": "stream",
     "text": [
      "Completed!\n"
     ]
    }
   ],
   "source": [
    "data_frame=sp.data_crawler(work_directory,cur_month,-12,0)"
   ]
  },
  {
   "cell_type": "code",
   "execution_count": 580,
   "metadata": {
    "collapsed": false
   },
   "outputs": [],
   "source": [
    "data_frame_return=data_frame.pct_change()"
   ]
  },
  {
   "cell_type": "code",
   "execution_count": 582,
   "metadata": {
    "collapsed": false,
    "scrolled": false
   },
   "outputs": [],
   "source": [
    "data = pd.read_csv('{0}.csv'.format(cur_month))\n",
    "data = data[data['Asset Class'] == 'Equity']\n",
    "data = data[data['Ticker'] != 'AA']\n",
    "data['Ticker'].replace({'BF.B': 'BF_B', 'BRKB': 'BRK_B'}, inplace=True)"
   ]
  },
  {
   "cell_type": "code",
   "execution_count": 562,
   "metadata": {
    "collapsed": false,
    "scrolled": false
   },
   "outputs": [],
   "source": [
    "cw=sp.cw_weights(data)"
   ]
  },
  {
   "cell_type": "code",
   "execution_count": 563,
   "metadata": {
    "collapsed": false,
    "scrolled": false
   },
   "outputs": [],
   "source": [
    "ew=sp.ew_weights(data)"
   ]
  },
  {
   "cell_type": "code",
   "execution_count": 583,
   "metadata": {
    "collapsed": false
   },
   "outputs": [],
   "source": [
    "cov_matrix=np.array(data_frame_return.cov())"
   ]
  },
  {
   "cell_type": "code",
   "execution_count": 584,
   "metadata": {
    "collapsed": false
   },
   "outputs": [],
   "source": [
    "mv=sp.mv_weights(cov_matrix)"
   ]
  },
  {
   "cell_type": "code",
   "execution_count": 592,
   "metadata": {
    "collapsed": false
   },
   "outputs": [],
   "source": [
    "vol_vec=np.array(data_frame_return.std())"
   ]
  },
  {
   "cell_type": "code",
   "execution_count": 602,
   "metadata": {
    "collapsed": false
   },
   "outputs": [],
   "source": [
    "mdp=sp.mdp_weights(cov_matrix,vol_vec)"
   ]
  },
  {
   "cell_type": "code",
   "execution_count": 670,
   "metadata": {
    "collapsed": false
   },
   "outputs": [],
   "source": [
    "erc=sp.erc_weights(cov_matrix)"
   ]
  },
  {
   "cell_type": "code",
   "execution_count": 682,
   "metadata": {
    "collapsed": false
   },
   "outputs": [
    {
     "data": {
      "text/plain": [
       "0.0"
      ]
     },
     "execution_count": 682,
     "metadata": {},
     "output_type": "execute_result"
    }
   ],
   "source": [
    "sp.sigmax_b(cw,cw,cov_matrix)"
   ]
  },
  {
   "cell_type": "code",
   "execution_count": 675,
   "metadata": {
    "collapsed": false
   },
   "outputs": [],
   "source": [
    "sigmax=[]\n",
    "ratio=[]\n",
    "sigmax_b=[]\n",
    "beta=[]\n",
    "N_x=[]\n",
    "N_rc=[]\n",
    "lens=[cw,ew,mv,mdp,erc]\n",
    "for lenx in lens:\n",
    "    sigmax.append(sp.sigmax(lenx,cov_matrix))\n",
    "    ratio.append(sp.ratio(lenx,cw,cov_matrix))\n",
    "    sigmax_b.append(sp.sigmax_b(lenx,cw,cov_matrix))\n",
    "    beta.append(sp.beta(lenx,cw,cov_matrix))\n",
    "    N_x.append(sp.N_x(lenx))\n",
    "    N_rc.append(sp.N_rc(lenx,cov_matrix))"
   ]
  },
  {
   "cell_type": "code",
   "execution_count": 686,
   "metadata": {
    "collapsed": false
   },
   "outputs": [
    {
     "data": {
      "text/html": [
       "<div>\n",
       "<table border=\"1\" class=\"dataframe\">\n",
       "  <thead>\n",
       "    <tr style=\"text-align: right;\">\n",
       "      <th></th>\n",
       "      <th>0</th>\n",
       "      <th>1</th>\n",
       "      <th>2</th>\n",
       "      <th>3</th>\n",
       "      <th>4</th>\n",
       "    </tr>\n",
       "  </thead>\n",
       "  <tbody>\n",
       "    <tr>\n",
       "      <th>0</th>\n",
       "      <td>0.914711</td>\n",
       "      <td>0.939023</td>\n",
       "      <td>0.577701</td>\n",
       "      <td>1.761779</td>\n",
       "      <td>0.864783</td>\n",
       "    </tr>\n",
       "    <tr>\n",
       "      <th>1</th>\n",
       "      <td>0.000000</td>\n",
       "      <td>-2.657876</td>\n",
       "      <td>36.843332</td>\n",
       "      <td>-92.604990</td>\n",
       "      <td>5.458332</td>\n",
       "    </tr>\n",
       "    <tr>\n",
       "      <th>2</th>\n",
       "      <td>0.000000</td>\n",
       "      <td>0.199706</td>\n",
       "      <td>0.562176</td>\n",
       "      <td>0.948175</td>\n",
       "      <td>0.151405</td>\n",
       "    </tr>\n",
       "    <tr>\n",
       "      <th>3</th>\n",
       "      <td>1.000000</td>\n",
       "      <td>0.951829</td>\n",
       "      <td>1.280033</td>\n",
       "      <td>0.489958</td>\n",
       "      <td>1.044075</td>\n",
       "    </tr>\n",
       "    <tr>\n",
       "      <th>4</th>\n",
       "      <td>146.119277</td>\n",
       "      <td>501.000000</td>\n",
       "      <td>33.194178</td>\n",
       "      <td>1.913272</td>\n",
       "      <td>469.423202</td>\n",
       "    </tr>\n",
       "    <tr>\n",
       "      <th>5</th>\n",
       "      <td>135.293711</td>\n",
       "      <td>326.711879</td>\n",
       "      <td>30.320374</td>\n",
       "      <td>2.000000</td>\n",
       "      <td>498.952370</td>\n",
       "    </tr>\n",
       "  </tbody>\n",
       "</table>\n",
       "</div>"
      ],
      "text/plain": [
       "            0           1          2          3           4\n",
       "0    0.914711    0.939023   0.577701   1.761779    0.864783\n",
       "1    0.000000   -2.657876  36.843332 -92.604990    5.458332\n",
       "2    0.000000    0.199706   0.562176   0.948175    0.151405\n",
       "3    1.000000    0.951829   1.280033   0.489958    1.044075\n",
       "4  146.119277  501.000000  33.194178   1.913272  469.423202\n",
       "5  135.293711  326.711879  30.320374   2.000000  498.952370"
      ]
     },
     "execution_count": 686,
     "metadata": {},
     "output_type": "execute_result"
    }
   ],
   "source": [
    "pd.DataFrame(np.array([100*np.array(sigmax),100*np.array(ratio),100*np.array(sigmax_b),beta,N_x,N_rc]))"
   ]
  },
  {
   "cell_type": "code",
   "execution_count": null,
   "metadata": {
    "collapsed": false
   },
   "outputs": [],
   "source": []
  },
  {
   "cell_type": "code",
   "execution_count": null,
   "metadata": {
    "collapsed": false
   },
   "outputs": [],
   "source": []
  },
  {
   "cell_type": "code",
   "execution_count": null,
   "metadata": {
    "collapsed": true
   },
   "outputs": [],
   "source": []
  }
 ],
 "metadata": {
  "kernelspec": {
   "display_name": "Python 3",
   "language": "python",
   "name": "python3"
  },
  "language_info": {
   "codemirror_mode": {
    "name": "ipython",
    "version": 3
   },
   "file_extension": ".py",
   "mimetype": "text/x-python",
   "name": "python",
   "nbconvert_exporter": "python",
   "pygments_lexer": "ipython3",
   "version": "3.5.1"
  }
 },
 "nbformat": 4,
 "nbformat_minor": 0
}
